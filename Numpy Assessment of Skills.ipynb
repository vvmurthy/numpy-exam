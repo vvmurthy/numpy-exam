{
 "cells": [
  {
   "cell_type": "code",
   "execution_count": 1,
   "metadata": {},
   "outputs": [],
   "source": [
    "import numpy as np"
   ]
  },
  {
   "cell_type": "markdown",
   "metadata": {},
   "source": [
    "# Numpy Assessment of Skills\n",
    "\n",
    "This is designed for our lab to test *how well* you are able to use numpy. This means not simply being able to store data in a numpy `NdArray` but rather being able to use numpy efficiently to be able to cut out `for` loops and similar.\n",
    "\n",
    "I design these questions not be be extensive nor to be done closed-book: you should be searching through numpy documentation even routinely while developing, so please do not hesistate to Google the answers if you need to. \n",
    "\n",
    "In addition, I will primarily be checking syntax on these examples. I would expect generally a solution which *only* involves Numpy and **Does not involve loops**.\n",
    "\n",
    "If any exercises are confusing please let me know. My plan is to use this as an onboarding guide in future semesters for Radiation Therapy, so it is best to refine it now\n",
    "\n",
    "Topics\n",
    "* Get row or column\n",
    "* Sum across axis\n",
    "* Numpy mean\n",
    "* Numpy expand dims and its relation to adding new arrays\n",
    "* Inplace ops = x = x / 2. vs x /= 2.\n",
    "* `np.where()`\n",
    "* `np.count_nonzero`\n",
    "* `np.repeat()` -> Nearest Neighbor Upscaling\n",
    "* Shape tuple in numpy vs len(array)\n",
    "* [-1] index\n",
    "* Boolean indexing\n",
    "* Bitwise `AND`and `OR`\n",
    "* Concatenate"
   ]
  },
  {
   "cell_type": "markdown",
   "metadata": {},
   "source": [
    "### Question 0: Basic Stuff\n",
    "\n",
    "Each bullet point should be solved in 1 line of code in the code box below.\n",
    "\n",
    "* Print the datatype of `basic_q`\n",
    "* Print the shape of `basic_q`. What type of variable is the shape of `basic_q`?\n",
    "* Create an array of zeros with 20 rows and 4 columns of type `np.float32`, named `zeros_array`\n",
    "* Create an array of ones with the same shape of `zeros_array`. You should not be hardcoding the values `20` or `4` in your solution. "
   ]
  },
  {
   "cell_type": "code",
   "execution_count": 2,
   "metadata": {},
   "outputs": [],
   "source": [
    "# Your code here\n",
    "basic_q = np.zeros(shape=(3,3))\n"
   ]
  },
  {
   "cell_type": "markdown",
   "metadata": {},
   "source": [
    "### Question 1: Summation of column\n",
    "\n",
    "Consider the array `sum_array` below. Please sum all the values in the first column, and print the sum to the screen"
   ]
  },
  {
   "cell_type": "code",
   "execution_count": 3,
   "metadata": {},
   "outputs": [
    {
     "name": "stdout",
     "output_type": "stream",
     "text": [
      "[[6 1 3 0]\n",
      " [2 1 6 7]\n",
      " [2 9 1 6]\n",
      " [2 9 5 1]]\n"
     ]
    }
   ],
   "source": [
    "sum_array = np.random.randint(low=0, high=10, size=(4,4))\n",
    "print(sum_array)\n",
    "\n",
    "# Your code starts here"
   ]
  },
  {
   "cell_type": "markdown",
   "metadata": {},
   "source": [
    "### Question 2: Grayscale Conversion.\n",
    "\n",
    "We define an arbitrary RGB image `rgb` below. It is modeled as an `np.uint8` array. \n",
    "\n",
    "**Q1** What is the maximum value that can be stored in an `np.uint8` array?\n",
    "\n",
    "**Coding** Convert `rgb` to it's grayscale representation. The last axis represents the channels of the image, where `rgb[0]` is the R channel. Remember that RGB -> Grayscale is done by taking the linear average of the R, G, and B channels for each pixel location. Then print the array to the screen."
   ]
  },
  {
   "cell_type": "code",
   "execution_count": 4,
   "metadata": {},
   "outputs": [
    {
     "name": "stdout",
     "output_type": "stream",
     "text": [
      "[[[126 113  20  71]\n",
      "  [133  28 198 150]\n",
      "  [225  21 100 223]\n",
      "  [210  80 215 169]]\n",
      "\n",
      " [[ 10 224 229  21]\n",
      "  [ 84 183  53  80]\n",
      "  [ 25 122 239   0]\n",
      "  [251  96 167 134]]\n",
      "\n",
      " [[134  23 122 201]\n",
      "  [202  86  87 104]\n",
      "  [208 156 150  30]\n",
      "  [179 230  19   1]]]\n"
     ]
    }
   ],
   "source": [
    "rgb = np.random.randint(low=0, high=255, size=(3,4,4), dtype=np.uint8)\n",
    "print(rgb)\n",
    "\n",
    "# Your code starts here"
   ]
  },
  {
   "cell_type": "markdown",
   "metadata": {},
   "source": [
    "### Question 3: Average Test Scores\n",
    "\n",
    "Consider the array `test_scores`. Each row represents a student, and each column represents a test. For example, `test_scores[0, 0]` represents the test scores for the 1st student on the 1st test.\n",
    "\n",
    "Find the average test score per student"
   ]
  },
  {
   "cell_type": "code",
   "execution_count": 5,
   "metadata": {},
   "outputs": [
    {
     "name": "stdout",
     "output_type": "stream",
     "text": [
      "[[ 7 17 94]\n",
      " [67 85 65]\n",
      " [ 2  2 61]\n",
      " [84 44 82]\n",
      " [65 87 14]]\n"
     ]
    }
   ],
   "source": [
    "test_scores = np.random.randint(0, 100, size=(5,3), dtype=np.int)\n",
    "print(test_scores)\n",
    "\n",
    "# Your code starts here"
   ]
  },
  {
   "cell_type": "markdown",
   "metadata": {},
   "source": [
    "### Question 4: Setting values with dimensions\n",
    "\n",
    "Consider the array `setter` below. I am looking to set it's 2nd row to `[1, 2, 3]` so that it looks like\n",
    "\n",
    "1 1 1\n",
    "\n",
    "1 2 3\n",
    "\n",
    "1 1 1\n",
    "\n",
    "Please uncomment and fill the line of code below. Do not modify anything to the left hand side of the equals sign, only add your code to the right hand side."
   ]
  },
  {
   "cell_type": "code",
   "execution_count": 6,
   "metadata": {},
   "outputs": [],
   "source": [
    "setter = np.ones(shape=(3,3), dtype=np.uint8)\n",
    "# setter[1:2] = "
   ]
  },
  {
   "cell_type": "markdown",
   "metadata": {},
   "source": [
    "### Question 5: Concatenating Two Arrays\n",
    "\n",
    "Please concatenate the two arrays `ones` and `zeros` so that the complete array looks like\n",
    "```\n",
    "1 1 1 1 \n",
    "\n",
    "0 0 0 0\n",
    "```"
   ]
  },
  {
   "cell_type": "code",
   "execution_count": 7,
   "metadata": {},
   "outputs": [],
   "source": [
    "ones = np.ones(shape=(4,), dtype=np.float32)\n",
    "zeros = np.zeros(shape=(4,), dtype=np.float32)\n",
    "\n",
    "# Add code here"
   ]
  },
  {
   "cell_type": "markdown",
   "metadata": {},
   "source": [
    "### Question 6: Floating Point Division of Integers\n",
    "\n",
    "Uncomment the line of code below and see it fail. Why does it fail? Correct the line so that the operation is performed correctly."
   ]
  },
  {
   "cell_type": "code",
   "execution_count": 8,
   "metadata": {},
   "outputs": [],
   "source": [
    "new_ones = np.ones(shape=(4,), dtype=np.int)\n",
    "# new_ones /= 2."
   ]
  },
  {
   "cell_type": "markdown",
   "metadata": {},
   "source": [
    "### Question 7: Sparse Arrays\n",
    "\n",
    "The array `sparse` is an array of zeros and ones. Convert the array so that instead of being an array of zeros and ones, it is the indices corresponding to the rows and columns of each 1 in the array\n",
    "\n",
    "For example:\n",
    "\n",
    "0 0\n",
    "\n",
    "1 1 \n",
    "\n",
    "Becomes\n",
    "\n",
    "1 0\n",
    "\n",
    "1 1\n",
    "\n",
    "Where each row corresponds to a (row, col) coordinate of the point in the original array `sparse`"
   ]
  },
  {
   "cell_type": "code",
   "execution_count": 9,
   "metadata": {},
   "outputs": [
    {
     "name": "stdout",
     "output_type": "stream",
     "text": [
      "[[0 0]\n",
      " [1 1]]\n"
     ]
    }
   ],
   "source": [
    "sparse = np.zeros(shape=(2,2), dtype=np.int8)\n",
    "sparse[1] = 1\n",
    "print(sparse)\n",
    "\n",
    "# Your code here"
   ]
  },
  {
   "cell_type": "markdown",
   "metadata": {},
   "source": [
    "### Question 8: Intersection over Union\n",
    "\n",
    "Consider the two arrays below, `annotation` and `prediction`. Calculate the intersection over union (IU) of the two arrays. \n",
    "\n",
    "IU = (Area of Overlap) / (Area of Union)\n",
    "\n",
    "(Area of Overlap) = total number of indices where both `annotation` and `prediction` have 1s\n",
    "\n",
    "(Area of Union) = total number of indices where *either* `annotation` or `prediction` have 1s"
   ]
  },
  {
   "cell_type": "code",
   "execution_count": 10,
   "metadata": {},
   "outputs": [],
   "source": [
    "annotation = np.array([1, 0, 0, 1])\n",
    "prediction = np.array([1, 1, 0, 0])\n",
    "\n",
    "# your code here"
   ]
  },
  {
   "cell_type": "markdown",
   "metadata": {},
   "source": [
    "### Question 9: Nearest Neighbor Upscaling\n",
    "\n",
    "Perform the nearest neighbor 2x upscaling of the following array. The original array will be\n",
    "```\n",
    "1 2 \n",
    "3 4\n",
    "```\n",
    "\n",
    "The nearest neighbor upscaling will convert it to\n",
    "```\n",
    "1 1 2 2\n",
    "1 1 2 2\n",
    "3 3 4 4\n",
    "3 3 4 4\n",
    "```\n",
    "\n",
    "You **may not** declare another array and fill the values in. I also reiterate that you **may not** use `for` loops during this question. "
   ]
  },
  {
   "cell_type": "code",
   "execution_count": 11,
   "metadata": {},
   "outputs": [
    {
     "name": "stdout",
     "output_type": "stream",
     "text": [
      "[[1 2]\n",
      " [3 4]]\n"
     ]
    }
   ],
   "source": [
    "nn = np.array([[1, 2], [3, 4]], dtype=np.int)\n",
    "print(nn)\n",
    "\n",
    "# your code here"
   ]
  },
  {
   "cell_type": "markdown",
   "metadata": {},
   "source": [
    "### Question 10: Difference in Shape \n",
    "\n",
    "What is the difference between `len(shape_array)` and `shape_array.shape`? Try it out below"
   ]
  },
  {
   "cell_type": "code",
   "execution_count": 12,
   "metadata": {},
   "outputs": [],
   "source": [
    "shape_array = np.zeros(shape=(10, 20, 3), dtype=np.float32)"
   ]
  },
  {
   "cell_type": "markdown",
   "metadata": {},
   "source": [
    "### Question 11: Variable Binarization\n",
    "\n",
    "Consider the array `binary`. It will consist of two numbers- 1, and a randomly selected number greater than 1. Count how many times the other number appears in the array `binary`. Note you should not be hardcoding a value when determining the non-one value. "
   ]
  },
  {
   "cell_type": "code",
   "execution_count": 13,
   "metadata": {},
   "outputs": [],
   "source": [
    "binary = np.ones((5,5),dtype=np.int8)\n",
    "random_value = np.random.randint(2, 10) \n",
    "binary[:, 0] = random_value\n",
    "binary[0, :] = random_value\n",
    "\n",
    "# Your code here"
   ]
  },
  {
   "cell_type": "markdown",
   "metadata": {},
   "source": [
    "### Question 12: Functions and Numpy\n",
    "\n",
    "Consider the function `adds_two` below. What effect will it have on `a`? Why is this the case? What would happen if `a` was not an `NdArray` but rather a generic python `int`? Try it out below. Note that for this question, I am looking for a verbal answer. You can double click on this text, and a box should pop up in Jupyter Notebook, so you can add your answer directly inside the text box.\n",
    "\n",
    "ANSWER STARTS HERE:\n"
   ]
  },
  {
   "cell_type": "code",
   "execution_count": 14,
   "metadata": {},
   "outputs": [],
   "source": [
    "def adds_two(a):\n",
    "    \"\"\"\n",
    "    Adds two to either an integer or numpy array\n",
    "    \n",
    "    Parameters\n",
    "    ----------\n",
    "    a : NdArray or int\n",
    "        Variable to add 2 to\n",
    "    \"\"\"\n",
    "    a += 2\n",
    "\n",
    "a = np.ones(shape=(2,2), dtype=np.int)\n",
    "a_integer = 1\n"
   ]
  },
  {
   "cell_type": "markdown",
   "metadata": {},
   "source": [
    "### Question 13: Odd Mean\n",
    "\n",
    "Find the mean of all odd numbers in the array `odd_mean` below"
   ]
  },
  {
   "cell_type": "code",
   "execution_count": 15,
   "metadata": {},
   "outputs": [
    {
     "name": "stdout",
     "output_type": "stream",
     "text": [
      "[[5 5 9 4]\n",
      " [3 2 0 7]\n",
      " [1 6 2 2]\n",
      " [8 1 1 3]]\n"
     ]
    }
   ],
   "source": [
    "odd_mean = np.random.randint(0, 10, size=(4,4), dtype=np.int)\n",
    "print(odd_mean)\n",
    "\n",
    "# Your code here"
   ]
  },
  {
   "cell_type": "markdown",
   "metadata": {},
   "source": [
    "### Question 14: Array Reversal\n",
    "\n",
    "Reverse the array `a = [1 2 3 4 5]` so that `a = [5 4 3 2 1]`. This should be done in one line of code."
   ]
  },
  {
   "cell_type": "code",
   "execution_count": 16,
   "metadata": {},
   "outputs": [],
   "source": [
    "a = np.array([1, 2, 3, 4, 5])\n",
    "\n",
    "# Your code here"
   ]
  },
  {
   "cell_type": "markdown",
   "metadata": {},
   "source": [
    "### Question 15: Datatype Conversions of Arrays\n",
    "\n",
    "consider the code section in the box below. What is printed by the commented out line? Why is this the case? Note that your answer should be written as this solves itself trivially if you just uncomment the line.\n",
    "\n",
    "YOUR ANSWER HERE:"
   ]
  },
  {
   "cell_type": "code",
   "execution_count": 17,
   "metadata": {},
   "outputs": [],
   "source": [
    "original_array = np.array([1, 2, 3, 4, 5], dtype=np.float32)\n",
    "new_array = np.uint8(original_array)\n",
    "new_array[2] = 10\n",
    "# print(original_array[2])"
   ]
  },
  {
   "cell_type": "markdown",
   "metadata": {},
   "source": [
    "### Question 16: Finding the Max Value\n",
    "\n",
    "Find the index of the max value in `max_array`. This should be solved in 1 line of code."
   ]
  },
  {
   "cell_type": "code",
   "execution_count": 18,
   "metadata": {},
   "outputs": [],
   "source": [
    "max_array = np.random.randint(low=0, high=10000000000, size=(10, 10, 2))\n",
    "\n",
    "# Your line of code below"
   ]
  }
 ],
 "metadata": {
  "kernelspec": {
   "display_name": "Python 3",
   "language": "python",
   "name": "python3"
  },
  "language_info": {
   "codemirror_mode": {
    "name": "ipython",
    "version": 3
   },
   "file_extension": ".py",
   "mimetype": "text/x-python",
   "name": "python",
   "nbconvert_exporter": "python",
   "pygments_lexer": "ipython3",
   "version": "3.5.2"
  }
 },
 "nbformat": 4,
 "nbformat_minor": 2
}
